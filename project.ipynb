{
 "cells": [
  {
   "cell_type": "code",
   "execution_count": 51,
   "metadata": {},
   "outputs": [],
   "source": [
    "import requests\n",
    "import pandas as pd\n",
    "from bs4 import BeautifulSoup\n",
    "\n",
    "import openai\n",
    "from openai.embeddings_utils import get_embedding, distances_from_embeddings\n",
    "import tiktoken"
   ]
  },
  {
   "cell_type": "markdown",
   "metadata": {},
   "source": [
    "## Step 0: Inspecting Non-Customized Results\n",
    "\n",
    "Before we perform any prompt engineering, **let's ask the OpenAI model some questions and see how it answers**.\n",
    "\n",
    "(If you encounter an `AuthenticationError` when running this code, make sure that you have added a valid API key to the cell above and executed it.)"
   ]
  },
  {
   "cell_type": "code",
   "execution_count": null,
   "metadata": {},
   "outputs": [],
   "source": [
    "openai.api_key = \"YOUR_API_KEY\""
   ]
  },
  {
   "cell_type": "code",
   "execution_count": 45,
   "metadata": {},
   "outputs": [],
   "source": [
    "# Yeti-airlines crash prompt\n",
    "crash_prompt = \"\"\"\n",
    "Question: \"When did yeti airlines recently crashed?\"\n",
    "Answer:\n",
    "\"\"\"\n",
    "initial_yetiairline_crash_answer = openai.Completion.create(\n",
    "    model=\"gpt-3.5-turbo-instruct\",\n",
    "    prompt=crash_prompt,\n",
    "    max_tokens=150\n",
    ")[\"choices\"][0][\"text\"].strip()\n",
    "print(initial_yetiairline_crash_answer)"
   ]
  },
  {
   "cell_type": "code",
   "execution_count": 77,
   "metadata": {},
   "outputs": [
    {
     "name": "stdout",
     "output_type": "stream",
     "text": [
      "As of 2021, the most populous country in the world is China, with a population of approximately 1.4 billion people.\n"
     ]
    }
   ],
   "source": [
    "# Most populous country\n",
    "populous_prompt = \"\"\"\n",
    "Question: \"Which is the most populous country in the world?\"\n",
    "Answer:\n",
    "\"\"\"\n",
    "initial_populous_country_answer = openai.Completion.create(\n",
    "    model=\"gpt-3.5-turbo-instruct\",\n",
    "    prompt=populous_prompt,\n",
    "    max_tokens=150\n",
    ")[\"choices\"][0][\"text\"].strip()\n",
    "print(populous_country_answer)"
   ]
  },
  {
   "cell_type": "markdown",
   "metadata": {},
   "source": [
    "# 1. Create Dataset with embeddings "
   ]
  },
  {
   "cell_type": "markdown",
   "metadata": {},
   "source": [
    "## Create Dataset"
   ]
  },
  {
   "cell_type": "code",
   "execution_count": 24,
   "metadata": {},
   "outputs": [],
   "source": [
    "# Get the Wikipedia page for \"2022\" since OpenAI's models stop in 2021\n",
    "params = {\n",
    "    \"action\": \"query\", \n",
    "    \"prop\": \"extracts\",\n",
    "    \"exlimit\": 1,\n",
    "    \"titles\": \"2023\",\n",
    "    \"explaintext\": 1,\n",
    "    \"formatversion\": 2,\n",
    "    \"format\": \"json\"\n",
    "}\n",
    "resp = requests.get(\"https://en.wikipedia.org/w/api.php\", params=params)"
   ]
  },
  {
   "cell_type": "code",
   "execution_count": 25,
   "metadata": {},
   "outputs": [
    {
     "data": {
      "text/html": [
       "<div>\n",
       "<style scoped>\n",
       "    .dataframe tbody tr th:only-of-type {\n",
       "        vertical-align: middle;\n",
       "    }\n",
       "\n",
       "    .dataframe tbody tr th {\n",
       "        vertical-align: top;\n",
       "    }\n",
       "\n",
       "    .dataframe thead th {\n",
       "        text-align: right;\n",
       "    }\n",
       "</style>\n",
       "<table border=\"1\" class=\"dataframe\">\n",
       "  <thead>\n",
       "    <tr style=\"text-align: right;\">\n",
       "      <th></th>\n",
       "      <th>text</th>\n",
       "    </tr>\n",
       "  </thead>\n",
       "  <tbody>\n",
       "    <tr>\n",
       "      <th>0</th>\n",
       "      <td>– 2023 (MMXXIII) was a common year starting o...</td>\n",
       "    </tr>\n",
       "    <tr>\n",
       "      <th>1</th>\n",
       "      <td>The year 2023 saw the decline in severity of t...</td>\n",
       "    </tr>\n",
       "    <tr>\n",
       "      <th>2</th>\n",
       "      <td>– The Russian invasion of Ukraine and Myanmar...</td>\n",
       "    </tr>\n",
       "    <tr>\n",
       "      <th>3</th>\n",
       "      <td>– A banking crisis resulted in the collapse o...</td>\n",
       "    </tr>\n",
       "    <tr>\n",
       "      <th>4</th>\n",
       "      <td>– In the realm of technology, 2023 saw the co...</td>\n",
       "    </tr>\n",
       "    <tr>\n",
       "      <th>...</th>\n",
       "      <td>...</td>\n",
       "    </tr>\n",
       "    <tr>\n",
       "      <th>293</th>\n",
       "      <td>Economics – Claudia Goldin, for her empirical ...</td>\n",
       "    </tr>\n",
       "    <tr>\n",
       "      <th>294</th>\n",
       "      <td>Literature – Jon Fosse, for his innovative pla...</td>\n",
       "    </tr>\n",
       "    <tr>\n",
       "      <th>295</th>\n",
       "      <td>Peace – Narges Mohammadi, for her works on the...</td>\n",
       "    </tr>\n",
       "    <tr>\n",
       "      <th>296</th>\n",
       "      <td>Physics – Pierre Agostini, Ferenc Krausz &amp; Ann...</td>\n",
       "    </tr>\n",
       "    <tr>\n",
       "      <th>297</th>\n",
       "      <td>Physiology or Medicine – Katalin Karikó &amp; Drew...</td>\n",
       "    </tr>\n",
       "  </tbody>\n",
       "</table>\n",
       "<p>246 rows × 1 columns</p>\n",
       "</div>"
      ],
      "text/plain": [
       "                                                  text\n",
       "0     – 2023 (MMXXIII) was a common year starting o...\n",
       "1    The year 2023 saw the decline in severity of t...\n",
       "2     – The Russian invasion of Ukraine and Myanmar...\n",
       "3     – A banking crisis resulted in the collapse o...\n",
       "4     – In the realm of technology, 2023 saw the co...\n",
       "..                                                 ...\n",
       "293  Economics – Claudia Goldin, for her empirical ...\n",
       "294  Literature – Jon Fosse, for his innovative pla...\n",
       "295  Peace – Narges Mohammadi, for her works on the...\n",
       "296  Physics – Pierre Agostini, Ferenc Krausz & Ann...\n",
       "297  Physiology or Medicine – Katalin Karikó & Drew...\n",
       "\n",
       "[246 rows x 1 columns]"
      ]
     },
     "execution_count": 25,
     "metadata": {},
     "output_type": "execute_result"
    }
   ],
   "source": [
    "# Load page text into a dataframe\n",
    "df = pd.DataFrame()\n",
    "df[\"text\"] = resp.json()[\"query\"][\"pages\"][0][\"extract\"].split(\"\\n\")\n",
    "\n",
    "# Clean up text to remove empty lines and headings\n",
    "df = df[(df[\"text\"].str.len() > 0) & (~df[\"text\"].str.startswith(\"==\"))]\n",
    "\n",
    "# In some cases dates are used as headings instead of being part of the\n",
    "# text sample; adjust so dated text samples start with dates\n",
    "prefix = \"\"\n",
    "for (i, row) in df.iterrows():\n",
    "    # If the row already has \" - \", it already has the needed date prefix\n",
    "    if \" – \" not in row[\"text\"]:\n",
    "        try:\n",
    "            # If the row's text is a date, set it as the new prefix\n",
    "            parse(row[\"text\"])\n",
    "            prefix = row[\"text\"]\n",
    "        except:\n",
    "            # If the row's text isn't a date, add the prefix\n",
    "            row[\"text\"] = prefix + \" – \" + row[\"text\"]\n",
    "df = df[df[\"text\"].str.contains(\" – \")]\n",
    "df"
   ]
  },
  {
   "cell_type": "markdown",
   "metadata": {},
   "source": [
    "##  Why the chosen dataset is appropriate for this application?\n",
    "As the model \"gpt-3.5-turbo-instruct\" was trained on the data up to Sep 2021 and we will like to know about the important events ocurred in 2023, the dataset from the 2023 was choosen and created as above. "
   ]
  },
  {
   "cell_type": "markdown",
   "metadata": {},
   "source": [
    "## Create Embeddings  "
   ]
  },
  {
   "cell_type": "code",
   "execution_count": 28,
   "metadata": {},
   "outputs": [],
   "source": [
    "EMBEDDING_MODEL_NAME = \"text-embedding-ada-002\"\n",
    "batch_size = 100\n",
    "embeddings = []\n",
    "for i in range(0, len(df), batch_size):\n",
    "    # Send text data to OpenAI model to get embeddings\n",
    "    response = openai.Embedding.create(\n",
    "        input=df.iloc[i:i+batch_size][\"text\"].tolist(),\n",
    "        engine=EMBEDDING_MODEL_NAME\n",
    "    )\n",
    "\n",
    "    # Add embeddings to list\n",
    "    embeddings.extend([data[\"embedding\"] for data in response[\"data\"]])\n",
    "\n",
    "# Add embeddings list to dataframe\n",
    "df[\"embeddings\"] = embeddings"
   ]
  },
  {
   "cell_type": "code",
   "execution_count": 35,
   "metadata": {},
   "outputs": [],
   "source": [
    "# Save the embeddings and data to csv file \n",
    "df.to_csv(\"embeddings_project.csv\")"
   ]
  },
  {
   "cell_type": "markdown",
   "metadata": {},
   "source": [
    "# 2. Find the relevant data with Unsupervised Machine Learning\n",
    "Now that we have embeddings for our dataset, we can use them to perform a semantic text search. A semantic text search means that instead of simply looking for the exact keywords from the question, we are looking for text that is most similar to the question across a number of dimensions. If semantic search means finding the most similar text, how do we measure that similarity? We need to define a measurement of \"distance\", and whichever piece of text has the shortest distance is the most similar. There are many ways to measure distance when we go beyond 1-dimensional data. Which one should we use for our chatbot? Since, we are using OpenAI API, it recommend to use cosine similarity. \n",
    "\n",
    "We need to take one more step before we are ready to implement a semantic text search in Python. We want to find the text that is the shortest distance from our query, and cosine similarity is not a true distance metric.\n",
    "\n",
    "Instead we’ll calculate cosine distance.\n",
    "\n",
    "$cosine\\,distance=1−cosine\\,similarity$\n",
    "\n",
    "If you want details about the math any why cosine similarity is not a true distance metric, read this article on [cosine distance](https://en.wikipedia.org/wiki/Cosine_similarity#Cosine_Distance).\n",
    "\n",
    "Sorting by cosine distance works for any kind of data that can be vectorized and works especially well for multimedia data (text, images, videos) that produce vectors with many dimensions. \n",
    "\n",
    "Comparing cosine distances to find the best matches is a popular unsupervised machine learning technique that is used in applications like search engines and recommendation engines. It is called an \"unsupervised\" technique because it works for data that doesn't have labels or dependent variables associated with it."
   ]
  },
  {
   "cell_type": "code",
   "execution_count": 48,
   "metadata": {},
   "outputs": [],
   "source": [
    "def get_rows_sorted_by_relevance(question, df):\n",
    "    \"\"\"\n",
    "    Function that takes in a question string and a dataframe containing\n",
    "    rows of text and associated embeddings, and returns that dataframe\n",
    "    sorted from least to most relevant for that question\n",
    "    \"\"\"\n",
    "\n",
    "    # Get embeddings for the question text\n",
    "    question_embeddings = get_embedding(question, engine=EMBEDDING_MODEL_NAME)\n",
    "\n",
    "    # Make a copy of the dataframe and add a \"distances\" column containing\n",
    "    # the cosine distances between each row's embeddings and the\n",
    "    # embeddings of the question\n",
    "    df_copy = df.copy()\n",
    "    df_copy[\"distances\"] = distances_from_embeddings(\n",
    "        question_embeddings,\n",
    "        df_copy[\"embeddings\"].values,\n",
    "        distance_metric=\"cosine\"\n",
    "    )\n",
    "\n",
    "    # Sort the copied dataframe by the distances and return it\n",
    "    # (shorter distance = more relevant so we sort in ascending order)\n",
    "    df_copy.sort_values(\"distances\", ascending=True, inplace=True)\n",
    "    return df_copy"
   ]
  },
  {
   "cell_type": "code",
   "execution_count": 49,
   "metadata": {},
   "outputs": [
    {
     "data": {
      "text/html": [
       "<div>\n",
       "<style scoped>\n",
       "    .dataframe tbody tr th:only-of-type {\n",
       "        vertical-align: middle;\n",
       "    }\n",
       "\n",
       "    .dataframe tbody tr th {\n",
       "        vertical-align: top;\n",
       "    }\n",
       "\n",
       "    .dataframe thead th {\n",
       "        text-align: right;\n",
       "    }\n",
       "</style>\n",
       "<table border=\"1\" class=\"dataframe\">\n",
       "  <thead>\n",
       "    <tr style=\"text-align: right;\">\n",
       "      <th></th>\n",
       "      <th>text</th>\n",
       "      <th>embeddings</th>\n",
       "      <th>distances</th>\n",
       "    </tr>\n",
       "  </thead>\n",
       "  <tbody>\n",
       "    <tr>\n",
       "      <th>18</th>\n",
       "      <td>January 15 – Yeti Airlines Flight 691 crashes ...</td>\n",
       "      <td>[0.002945022424682975, -0.005277556367218494, ...</td>\n",
       "      <td>0.128615</td>\n",
       "    </tr>\n",
       "    <tr>\n",
       "      <th>21</th>\n",
       "      <td>January 18 – A helicopter crash in Brovary nea...</td>\n",
       "      <td>[-0.013045558705925941, 0.0028561376966536045,...</td>\n",
       "      <td>0.221227</td>\n",
       "    </tr>\n",
       "    <tr>\n",
       "      <th>197</th>\n",
       "      <td>– Wagner Group leader Yevgeny Prigozhin, foun...</td>\n",
       "      <td>[-0.003862723708152771, -0.02204275317490101, ...</td>\n",
       "      <td>0.226244</td>\n",
       "    </tr>\n",
       "    <tr>\n",
       "      <th>55</th>\n",
       "      <td>February 28 – A train crash in Thessaly, Greec...</td>\n",
       "      <td>[-0.006406525615602732, -0.0027828142046928406...</td>\n",
       "      <td>0.236767</td>\n",
       "    </tr>\n",
       "    <tr>\n",
       "      <th>96</th>\n",
       "      <td>April 11 – Myanmar civil war: In the village o...</td>\n",
       "      <td>[-0.021450893953442574, -0.006634502671658993,...</td>\n",
       "      <td>0.240881</td>\n",
       "    </tr>\n",
       "    <tr>\n",
       "      <th>...</th>\n",
       "      <td>...</td>\n",
       "      <td>...</td>\n",
       "      <td>...</td>\n",
       "    </tr>\n",
       "    <tr>\n",
       "      <th>166</th>\n",
       "      <td>– New Zealand signs a free trade agreement wi...</td>\n",
       "      <td>[0.007262112107127905, -0.021624956279993057, ...</td>\n",
       "      <td>0.316796</td>\n",
       "    </tr>\n",
       "    <tr>\n",
       "      <th>61</th>\n",
       "      <td>– UN member states agree on a legal framework...</td>\n",
       "      <td>[0.016124222427606583, -0.011866559274494648, ...</td>\n",
       "      <td>0.318107</td>\n",
       "    </tr>\n",
       "    <tr>\n",
       "      <th>99</th>\n",
       "      <td>– Nuclear power in Germany ends after 50 year...</td>\n",
       "      <td>[0.0031694083008915186, -0.03617486357688904, ...</td>\n",
       "      <td>0.320473</td>\n",
       "    </tr>\n",
       "    <tr>\n",
       "      <th>295</th>\n",
       "      <td>Peace – Narges Mohammadi, for her works on the...</td>\n",
       "      <td>[-0.013266590423882008, -0.012964030727744102,...</td>\n",
       "      <td>0.322383</td>\n",
       "    </tr>\n",
       "    <tr>\n",
       "      <th>257</th>\n",
       "      <td>November 30 – Brazil announces it will join OP...</td>\n",
       "      <td>[-0.008173664100468159, -0.023812735453248024,...</td>\n",
       "      <td>0.338231</td>\n",
       "    </tr>\n",
       "  </tbody>\n",
       "</table>\n",
       "<p>246 rows × 3 columns</p>\n",
       "</div>"
      ],
      "text/plain": [
       "                                                  text  \\\n",
       "18   January 15 – Yeti Airlines Flight 691 crashes ...   \n",
       "21   January 18 – A helicopter crash in Brovary nea...   \n",
       "197   – Wagner Group leader Yevgeny Prigozhin, foun...   \n",
       "55   February 28 – A train crash in Thessaly, Greec...   \n",
       "96   April 11 – Myanmar civil war: In the village o...   \n",
       "..                                                 ...   \n",
       "166   – New Zealand signs a free trade agreement wi...   \n",
       "61    – UN member states agree on a legal framework...   \n",
       "99    – Nuclear power in Germany ends after 50 year...   \n",
       "295  Peace – Narges Mohammadi, for her works on the...   \n",
       "257  November 30 – Brazil announces it will join OP...   \n",
       "\n",
       "                                            embeddings  distances  \n",
       "18   [0.002945022424682975, -0.005277556367218494, ...   0.128615  \n",
       "21   [-0.013045558705925941, 0.0028561376966536045,...   0.221227  \n",
       "197  [-0.003862723708152771, -0.02204275317490101, ...   0.226244  \n",
       "55   [-0.006406525615602732, -0.0027828142046928406...   0.236767  \n",
       "96   [-0.021450893953442574, -0.006634502671658993,...   0.240881  \n",
       "..                                                 ...        ...  \n",
       "166  [0.007262112107127905, -0.021624956279993057, ...   0.316796  \n",
       "61   [0.016124222427606583, -0.011866559274494648, ...   0.318107  \n",
       "99   [0.0031694083008915186, -0.03617486357688904, ...   0.320473  \n",
       "295  [-0.013266590423882008, -0.012964030727744102,...   0.322383  \n",
       "257  [-0.008173664100468159, -0.023812735453248024,...   0.338231  \n",
       "\n",
       "[246 rows x 3 columns]"
      ]
     },
     "execution_count": 49,
     "metadata": {},
     "output_type": "execute_result"
    }
   ],
   "source": [
    "get_rows_sorted_by_relevance(crash_prompt, df)"
   ]
  },
  {
   "cell_type": "code",
   "execution_count": 50,
   "metadata": {},
   "outputs": [
    {
     "data": {
      "text/html": [
       "<div>\n",
       "<style scoped>\n",
       "    .dataframe tbody tr th:only-of-type {\n",
       "        vertical-align: middle;\n",
       "    }\n",
       "\n",
       "    .dataframe tbody tr th {\n",
       "        vertical-align: top;\n",
       "    }\n",
       "\n",
       "    .dataframe thead th {\n",
       "        text-align: right;\n",
       "    }\n",
       "</style>\n",
       "<table border=\"1\" class=\"dataframe\">\n",
       "  <thead>\n",
       "    <tr style=\"text-align: right;\">\n",
       "      <th></th>\n",
       "      <th>text</th>\n",
       "      <th>embeddings</th>\n",
       "      <th>distances</th>\n",
       "    </tr>\n",
       "  </thead>\n",
       "  <tbody>\n",
       "    <tr>\n",
       "      <th>278</th>\n",
       "      <td>– The world population on January 1, 2023 was...</td>\n",
       "      <td>[0.010348082520067692, 0.0012515030102804303, ...</td>\n",
       "      <td>0.207840</td>\n",
       "    </tr>\n",
       "    <tr>\n",
       "      <th>162</th>\n",
       "      <td>July 4 – Iran joins the Shanghai Cooperation O...</td>\n",
       "      <td>[-0.0055496529676020145, -0.011195877566933632...</td>\n",
       "      <td>0.241719</td>\n",
       "    </tr>\n",
       "    <tr>\n",
       "      <th>208</th>\n",
       "      <td>September 9 – At the 18th G20 summit in New De...</td>\n",
       "      <td>[-0.0016951067373156548, -0.016396773979067802...</td>\n",
       "      <td>0.243887</td>\n",
       "    </tr>\n",
       "    <tr>\n",
       "      <th>223</th>\n",
       "      <td>October 5 – November 19 – The 2023 Cricket Wor...</td>\n",
       "      <td>[-0.00882712472230196, -0.021790755912661552, ...</td>\n",
       "      <td>0.246750</td>\n",
       "    </tr>\n",
       "    <tr>\n",
       "      <th>203</th>\n",
       "      <td>September 1 – 2023 Singaporean presidential el...</td>\n",
       "      <td>[-0.004922438412904739, -0.024788692593574524,...</td>\n",
       "      <td>0.249285</td>\n",
       "    </tr>\n",
       "    <tr>\n",
       "      <th>...</th>\n",
       "      <td>...</td>\n",
       "      <td>...</td>\n",
       "      <td>...</td>\n",
       "    </tr>\n",
       "    <tr>\n",
       "      <th>253</th>\n",
       "      <td>– Israel and Hamas agree to a four-day ceasef...</td>\n",
       "      <td>[-0.03233906999230385, -0.02131197787821293, 0...</td>\n",
       "      <td>0.319540</td>\n",
       "    </tr>\n",
       "    <tr>\n",
       "      <th>188</th>\n",
       "      <td>August 10 – Tapestry, the holding company of C...</td>\n",
       "      <td>[-0.03186238929629326, -0.01694248989224434, -...</td>\n",
       "      <td>0.319769</td>\n",
       "    </tr>\n",
       "    <tr>\n",
       "      <th>205</th>\n",
       "      <td>September 6 – Bassist Richard Davis dies at th...</td>\n",
       "      <td>[-0.005590077023953199, 0.008676853030920029, ...</td>\n",
       "      <td>0.321001</td>\n",
       "    </tr>\n",
       "    <tr>\n",
       "      <th>41</th>\n",
       "      <td>– A Norfolk Southern train carrying hazardous...</td>\n",
       "      <td>[0.0024183171335607767, 0.008508063852787018, ...</td>\n",
       "      <td>0.324381</td>\n",
       "    </tr>\n",
       "    <tr>\n",
       "      <th>171</th>\n",
       "      <td>July 14 – SAG-AFTRA announces it will begin a ...</td>\n",
       "      <td>[-0.009135234169661999, -0.03525742143392563, ...</td>\n",
       "      <td>0.324382</td>\n",
       "    </tr>\n",
       "  </tbody>\n",
       "</table>\n",
       "<p>246 rows × 3 columns</p>\n",
       "</div>"
      ],
      "text/plain": [
       "                                                  text  \\\n",
       "278   – The world population on January 1, 2023 was...   \n",
       "162  July 4 – Iran joins the Shanghai Cooperation O...   \n",
       "208  September 9 – At the 18th G20 summit in New De...   \n",
       "223  October 5 – November 19 – The 2023 Cricket Wor...   \n",
       "203  September 1 – 2023 Singaporean presidential el...   \n",
       "..                                                 ...   \n",
       "253   – Israel and Hamas agree to a four-day ceasef...   \n",
       "188  August 10 – Tapestry, the holding company of C...   \n",
       "205  September 6 – Bassist Richard Davis dies at th...   \n",
       "41    – A Norfolk Southern train carrying hazardous...   \n",
       "171  July 14 – SAG-AFTRA announces it will begin a ...   \n",
       "\n",
       "                                            embeddings  distances  \n",
       "278  [0.010348082520067692, 0.0012515030102804303, ...   0.207840  \n",
       "162  [-0.0055496529676020145, -0.011195877566933632...   0.241719  \n",
       "208  [-0.0016951067373156548, -0.016396773979067802...   0.243887  \n",
       "223  [-0.00882712472230196, -0.021790755912661552, ...   0.246750  \n",
       "203  [-0.004922438412904739, -0.024788692593574524,...   0.249285  \n",
       "..                                                 ...        ...  \n",
       "253  [-0.03233906999230385, -0.02131197787821293, 0...   0.319540  \n",
       "188  [-0.03186238929629326, -0.01694248989224434, -...   0.319769  \n",
       "205  [-0.005590077023953199, 0.008676853030920029, ...   0.321001  \n",
       "41   [0.0024183171335607767, 0.008508063852787018, ...   0.324381  \n",
       "171  [-0.009135234169661999, -0.03525742143392563, ...   0.324382  \n",
       "\n",
       "[246 rows x 3 columns]"
      ]
     },
     "execution_count": 50,
     "metadata": {},
     "output_type": "execute_result"
    }
   ],
   "source": [
    "get_rows_sorted_by_relevance(populous_prompt, df)"
   ]
  },
  {
   "cell_type": "markdown",
   "metadata": {},
   "source": [
    "# 3. Compose a Custom Text Prompt\n",
    "\n",
    "- We will use the results of the previous step to compose a custom text prompt that incorporates both the user's question and the most relevant context from our dataset. \n",
    "- We will use a tokenizer to measure the length of our prompt and ensure that it doesn't exceed the limits of the OpenAI `Completion` model.\n",
    "\n",
    "Our data is sorted from most to least relevant -- but how many of those rows (i.e. context) can we include ?\n",
    "\n",
    "While we could choose arbitrary number, e.g. the top 5 or top 50 most relevant rows, a better approach is to count the number of tokens we use as we compose our text prompt and use all of the available tokens for each prompt. \n",
    "\n",
    "**How many tokens are included in Context or What is the maximum amount of context we can include?**\n",
    "\n",
    " The model limit minus the number of tokens in the prompt.\n",
    "\n",
    "For example, if the limit is 4,097 tokens and the prompt contains 24 tokens, the maximum token count for the context will be 4,097 - 24 = 4,073.\n",
    "\n",
    "\n"
   ]
  },
  {
   "cell_type": "code",
   "execution_count": 81,
   "metadata": {},
   "outputs": [],
   "source": [
    "def create_prompt(question, df, max_token_count):\n",
    "    \"\"\"\n",
    "    Given a question and a dataframe containing rows of text and their\n",
    "    embeddings, return a text prompt to send to a Completion model\n",
    "    \"\"\"\n",
    "    # Create a tokenizer that is designed to align with our embeddings\n",
    "    tokenizer = tiktoken.get_encoding(\"cl100k_base\")\n",
    "    \n",
    "    # Count the number of tokens in the prompt template and question\n",
    "    prompt_template = \"\"\"\n",
    "Answer the question based on the context below, and if the question\n",
    "can't be answered based on the context, say \"I don't know\"\n",
    "\n",
    "Context: \n",
    "\n",
    "{}\n",
    "\n",
    "---\n",
    "\n",
    "Question: {}\n",
    "Answer:\"\"\"\n",
    "    \n",
    "    current_token_count = len(tokenizer.encode(prompt_template)) + \\\n",
    "                            len(tokenizer.encode(question))\n",
    "    \n",
    "    \n",
    "    context = []\n",
    "    for text in get_rows_sorted_by_relevance(question, df)[\"text\"].values:\n",
    "        \n",
    "        # Increase the counter based on the number of tokens in this row\n",
    "        text_token_count = len(tokenizer.encode(text))\n",
    "        current_token_count += text_token_count\n",
    "        \n",
    "        # Add the row of text to the list if we haven't exceeded the max\n",
    "        if current_token_count <= max_token_count:\n",
    "            context.append(text)\n",
    "        else:\n",
    "            break\n",
    "    return prompt_template.format(\"\\n\\n###\\n\\n\".join(context), question)"
   ]
  },
  {
   "cell_type": "code",
   "execution_count": 79,
   "metadata": {},
   "outputs": [
    {
     "name": "stdout",
     "output_type": "stream",
     "text": [
      "Token Count:78\n",
      "Token Count:110\n",
      "Token Count:152\n",
      "Token Count:181\n",
      "Token Count:211\n",
      "Token Count:211\n",
      "\n",
      "Answer the question based on the context below, and if the question\n",
      "can't be answered based on the context, say \"I don't know\"\n",
      "\n",
      "Context: \n",
      "\n",
      "January 15 – Yeti Airlines Flight 691 crashes during final approach into Pokhara, Nepal, killing all 72 people on board.\n",
      "\n",
      "###\n",
      "\n",
      "January 18 – A helicopter crash in Brovary near Kyiv, Ukraine kills 14 people including Ukrainian Minister of Internal Affairs Denys Monastyrsky.\n",
      "\n",
      "###\n",
      "\n",
      "February 28 – A train crash in Thessaly, Greece, kills 57 people and injures dozens. The crash leads to nationwide protests and strikes against the condition of Greek railways and their mismanagement.\n",
      "\n",
      "###\n",
      "\n",
      "June 2 – A train collision in Odisha, India results in at least 296 deaths and more than 1,200 others injured.\n",
      "\n",
      "---\n",
      "\n",
      "Question: When did yeti airlines recently crashed?\n",
      "Answer:\n"
     ]
    }
   ],
   "source": [
    "print(create_prompt(\"When did yeti airlines recently crashed?\", df, 200))"
   ]
  },
  {
   "cell_type": "code",
   "execution_count": 75,
   "metadata": {},
   "outputs": [
    {
     "name": "stdout",
     "output_type": "stream",
     "text": [
      "Token Count:208\n",
      "Token Count:226\n",
      "Token Count:259\n",
      "Token Count:311\n",
      "\n",
      "Answer the question based on the context below, and if the question\n",
      "can't be answered based on the context, say \"I don't know\"\n",
      "\n",
      "Context: \n",
      "\n",
      " – The world population on January 1, 2023 was estimated at 7.943 billion people, and was expected to increase to 8.119 billion on January 1, 2024. An estimated 134.3 million births and 60.8 million deaths were expected to take place in 2023. The average global life expectancy was 73.16 years, an increase of 0.18 years from 2022. The rate of child mortality was by the end of the year, expected to have decreased from 2022. Less than 23% of people were living in extreme poverty (on or below the international poverty line), a decrease from 2022. In April, India surpassed China as the most populated country in the world.\n",
      "\n",
      "###\n",
      "\n",
      "July 4 – Iran joins the Shanghai Cooperation Organisation, becoming the organization's ninth member.\n",
      "\n",
      "###\n",
      "\n",
      "September 9 – At the 18th G20 summit in New Delhi, the African Union is announced as the 21st permanent member of the G20.\n",
      "\n",
      "---\n",
      "\n",
      "Question: Which is the most populous country in the world?\n",
      "Answer:\n"
     ]
    }
   ],
   "source": [
    "print(create_prompt(\"Which is the most populous country in the world?\", df, 300))"
   ]
  },
  {
   "cell_type": "markdown",
   "metadata": {},
   "source": [
    "# 4. Query a Completion Model\n",
    "\n",
    "- Once we have the custom text prompt, the last step is to send that prompt to an OpenAI text completion model and parse the response. This will provide the user with a tailored answer to their question!"
   ]
  },
  {
   "cell_type": "code",
   "execution_count": 76,
   "metadata": {},
   "outputs": [],
   "source": [
    "COMPLETION_MODEL_NAME = \"gpt-3.5-turbo-instruct\"\n",
    "\n",
    "def answer_question(\n",
    "    question, df, max_prompt_tokens=1800, max_answer_tokens=150\n",
    "):\n",
    "    \"\"\"\n",
    "    Given a question, a dataframe containing rows of text, and a maximum\n",
    "    number of desired tokens in the prompt and response, return the\n",
    "    answer to the question according to an OpenAI Completion model\n",
    "    \n",
    "    If the model produces an error, return an empty string\n",
    "    \"\"\"\n",
    "    \n",
    "    prompt = create_prompt(question, df, max_prompt_tokens)\n",
    "    \n",
    "    try:\n",
    "        response = openai.Completion.create(\n",
    "            model=COMPLETION_MODEL_NAME,\n",
    "            prompt=prompt,\n",
    "            max_tokens=max_answer_tokens\n",
    "        )\n",
    "        return response[\"choices\"][0][\"text\"].strip()\n",
    "    except Exception as e:\n",
    "        print(e)\n",
    "        return \"\""
   ]
  },
  {
   "cell_type": "code",
   "execution_count": 89,
   "metadata": {},
   "outputs": [
    {
     "name": "stdout",
     "output_type": "stream",
     "text": [
      "January 15, 2023 in Pokhara, Nepal.\n"
     ]
    }
   ],
   "source": [
    "custom_airline_crash_answer = answer_question(\"When did yeti airlines crashed and Where? Include year too.\", df)\n",
    "print(custom_airline_crash_answer)"
   ]
  },
  {
   "cell_type": "code",
   "execution_count": 91,
   "metadata": {},
   "outputs": [
    {
     "name": "stdout",
     "output_type": "stream",
     "text": [
      "Based on the context, as of April 2023, India surpassed China as the most populated country in the world.\n"
     ]
    }
   ],
   "source": [
    "custom_populous_country_answer = answer_question(\"Which is the most populous country in the world?\", df)\n",
    "print(custom_populous_country_answer)"
   ]
  },
  {
   "cell_type": "markdown",
   "metadata": {},
   "source": [
    "Below we compare answers with and without our custom prompt:"
   ]
  },
  {
   "cell_type": "code",
   "execution_count": 93,
   "metadata": {},
   "outputs": [
    {
     "name": "stdout",
     "output_type": "stream",
     "text": [
      "\n",
      "When did yeti airlines crashed and Where? Include year too.\n",
      "\n",
      "Original Answer: There was no recent crash involving Yeti Airlines.\n",
      "Custom Answer:   January 15, 2023 in Pokhara, Nepal.\n",
      "\n",
      "Which is the most populous country in the world?\n",
      "Original Answer: The most populous country in the world is China with a population of over 1.4 billion people.\n",
      "Custom Answer:   Based on the context, as of April 2023, India surpassed China as the most populated country in the world.\n",
      "\n"
     ]
    }
   ],
   "source": [
    "print(f\"\"\"\n",
    "When did yeti airlines crashed and Where? Include year too.\n",
    "\n",
    "Original Answer: {initial_yetiairline_crash_answer}\n",
    "Custom Answer:   {custom_airline_crash_answer}\n",
    "\n",
    "Which is the most populous country in the world?\n",
    "Original Answer: {initial_populous_country_answer}\n",
    "Custom Answer:   {custom_populous_country_answer}\n",
    "\"\"\")"
   ]
  },
  {
   "cell_type": "code",
   "execution_count": null,
   "metadata": {},
   "outputs": [],
   "source": []
  }
 ],
 "metadata": {
  "kernelspec": {
   "display_name": "Python 3",
   "language": "python",
   "name": "python3"
  },
  "language_info": {
   "codemirror_mode": {
    "name": "ipython",
    "version": 3
   },
   "file_extension": ".py",
   "mimetype": "text/x-python",
   "name": "python",
   "nbconvert_exporter": "python",
   "pygments_lexer": "ipython3",
   "version": "3.9.19"
  }
 },
 "nbformat": 4,
 "nbformat_minor": 2
}
